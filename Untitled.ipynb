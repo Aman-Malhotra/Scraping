{
 "cells": [
  {
   "cell_type": "code",
   "execution_count": 30,
   "metadata": {},
   "outputs": [],
   "source": [
    "import requests\n",
    "from scrapy.http import TextResponse"
   ]
  },
  {
   "cell_type": "code",
   "execution_count": 31,
   "metadata": {},
   "outputs": [],
   "source": [
    "req = requests.get('https://howtofashion.in/')\n",
    "response = TextResponse(req.url, body=req.text, encoding='utf-8')"
   ]
  },
  {
   "cell_type": "code",
   "execution_count": 32,
   "metadata": {},
   "outputs": [
    {
     "name": "stdout",
     "output_type": "stream",
     "text": [
      "Business meeting 2017 in San Francisco\n",
      "5 reasons to purchase desktop computers\n",
      "See the unmatched beauty of the great lakes\n",
      "Investment trend monitor: Top trends in 2017\n",
      "Stair lifts feel the freedom of your home\n",
      "Mind power the ultimate success formula\n",
      "Top 10 night creams will help your skin to relax\n",
      "Live poker how to win tournament games\n",
      "Success steps for your personal or business life\n",
      "Combing hair 10 tips for proper hair combing\n",
      "How to excellent in a technical job interview\n",
      "Advertising relationships vs business decisions\n",
      "How to set intentions that energize you\n",
      "To keep makeup looking fresh take a powder\n",
      "Virginia travel for kids\n",
      "Differentiate yourself and attract more attention sales and profits\n"
     ]
    }
   ],
   "source": [
    "names = response.css('.liquid-overlay-link::text').extract()\n",
    "for name in names:\n",
    "    print(name)"
   ]
  },
  {
   "cell_type": "code",
   "execution_count": 33,
   "metadata": {},
   "outputs": [],
   "source": [
    "req2 = requests.get('https://howtofashion.in/2018/08/16/5-reasons-to-purchase-desktop-computers-2/')\n",
    "response2 = TextResponse(req2.url, body=req2.text, encoding='utf-8')"
   ]
  },
  {
   "cell_type": "code",
   "execution_count": 36,
   "metadata": {},
   "outputs": [
    {
     "name": "stdout",
     "output_type": "stream",
     "text": [
      "Hard work\n",
      "Learning from failure\n",
      "“Success is the result of perfection, hard work, learning from failure, loyalty, and persistence”\n",
      "The Reward System\n",
      "The powerful force of humanity\n"
     ]
    }
   ],
   "source": [
    "titles = response2.css('.wpb_wrapper h3::text').extract()\n",
    "for title in titles:\n",
    "    print(title)"
   ]
  },
  {
   "cell_type": "code",
   "execution_count": 38,
   "metadata": {},
   "outputs": [
    {
     "name": "stdout",
     "output_type": "stream",
     "text": [
      "https://howtofashion.in/2018/08/16/business-meeting-2017-in-san-francisco-2/\n",
      "https://howtofashion.in/2018/08/16/5-reasons-to-purchase-desktop-computers-2/\n",
      "https://howtofashion.in/2018/08/16/see-the-unmatched-beauty-of-the-great-lakes-2/\n",
      "https://howtofashion.in/2018/08/16/investment-trend-monitor-top-trends-in-2017-2/\n",
      "https://howtofashion.in/2018/08/16/stair-lifts-feel-the-freedom-of-your-home-2/\n",
      "https://howtofashion.in/2018/08/16/mind-power-the-ultimate-success-formula-2/\n",
      "https://howtofashion.in/2018/08/16/top-10-night-creams-will-help-your-skin-to-relax-2/\n",
      "https://howtofashion.in/2018/08/16/live-poker-how-to-win-tournament-games-2/\n",
      "https://howtofashion.in/2018/08/16/success-steps-for-your-personal-or-business-life-2/\n",
      "https://howtofashion.in/2018/08/16/combing-hair-10-tips-for-proper-hair-combing-2/\n",
      "https://howtofashion.in/2018/08/16/how-to-excellent-in-a-technical-job-interview-2/\n",
      "https://howtofashion.in/2018/08/16/advertising-relationships-vs-business-decisions-2/\n",
      "https://howtofashion.in/2018/08/16/how-to-set-intentions-that-energize-you/\n",
      "https://howtofashion.in/2018/08/16/to-keep-makeup-looking-fresh-take-a-powder/\n",
      "https://howtofashion.in/2018/08/16/virginia-travel-for-kids/\n",
      "https://howtofashion.in/2018/08/16/differentiate-yourself-and-attract-more-attention-sales-and-profits/\n"
     ]
    }
   ],
   "source": [
    "links = response.css('figure a::attr(href)').extract()\n",
    "for link in links:\n",
    "    print(link)"
   ]
  },
  {
   "cell_type": "code",
   "execution_count": null,
   "metadata": {},
   "outputs": [],
   "source": []
  }
 ],
 "metadata": {
  "kernelspec": {
   "display_name": "Python 3",
   "language": "python",
   "name": "python3"
  },
  "language_info": {
   "codemirror_mode": {
    "name": "ipython",
    "version": 3
   },
   "file_extension": ".py",
   "mimetype": "text/x-python",
   "name": "python",
   "nbconvert_exporter": "python",
   "pygments_lexer": "ipython3",
   "version": "3.6.8"
  }
 },
 "nbformat": 4,
 "nbformat_minor": 2
}
