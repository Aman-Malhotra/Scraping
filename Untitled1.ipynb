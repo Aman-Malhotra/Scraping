{
 "cells": [
  {
   "cell_type": "code",
   "execution_count": 21,
   "metadata": {},
   "outputs": [],
   "source": [
    "import requests\n",
    "from scrapy.http import TextResponse"
   ]
  },
  {
   "cell_type": "code",
   "execution_count": 34,
   "metadata": {},
   "outputs": [],
   "source": [
    "r = requests.get('https://www.tripadvisor.in/Restaurants-g659325-Patiala_Patialar_District_Punjab.html')\n",
    "response = TextResponse(r.url, body=r.text, encoding='utf-8')"
   ]
  },
  {
   "cell_type": "code",
   "execution_count": 59,
   "metadata": {},
   "outputs": [
    {
     "name": "stdout",
     "output_type": "stream",
     "text": [
      "{'name': 'New Gopal Sweets'}\n",
      "{'name': 'Garden Resort'}\n",
      "{'name': 'Cafe Coffee Day'}\n",
      "{'name': 'Gastro Eatery Hub'}\n",
      "{'name': 'KFC Patiala'}\n",
      "{'name': 'Boston Bites'}\n",
      "{'name': \"Sahni's bakery and restaurant\"}\n",
      "{'name': 'Pizza Nation'}\n",
      "{'name': \"Green's Restobar\"}\n",
      "{'name': 'Jaggi Sweets'}\n",
      "{'name': 'Meenu Parontha'}\n",
      "{'name': \"Domino's Pizza\"}\n",
      "{'name': 'Aneja Sweets Restaurant And Bakers'}\n",
      "{'name': \"Buns 'N' Bunnies\"}\n",
      "{'name': 'PATIALA HOUSE'}\n",
      "{'name': 'Barbeque Nation Rajpura Road'}\n",
      "{'name': 'Sahni Dhabha'}\n",
      "{'name': 'Hotel Mohan Continental Restaurant'}\n",
      "{'name': 'The Beer Street'}\n",
      "{'name': 'Hotel Dhillon Residency Restaurant'}\n",
      "{'name': 'Nagpal Restaurant'}\n",
      "{'name': 'Food Jail Patiala'}\n",
      "{'name': 'Chaibubble'}\n",
      "{'name': 'The Brew Estate'}\n",
      "{'name': 'Veg King Patiala'}\n",
      "{'name': 'Barista'}\n",
      "{'name': 'TNG hotel and restaurant'}\n",
      "{'name': 'Green chick chop'}\n",
      "{'name': 'Cafe @ Route 64'}\n",
      "{'name': 'Kohli Dhaba'}\n"
     ]
    }
   ],
   "source": [
    "restName = response.css('.restaurants-list-ListCell__restaurantName--2aSdo::text').extract()\n",
    "for r in restName:\n",
    "    print({\"name\":r[r.find('.')+2:]})"
   ]
  },
  {
   "cell_type": "code",
   "execution_count": 44,
   "metadata": {},
   "outputs": [
    {
     "name": "stdout",
     "output_type": "stream",
     "text": [
      "https://media-cdn.tripadvisor.com/media/photo-f/09/76/95/d4/new-gopal-sweets.jpg\n",
      "https://media-cdn.tripadvisor.com/media/photo-s/12/61/92/6b/photo0jpg.jpg\n",
      "https://media-cdn.tripadvisor.com/media/photo-f/12/05/74/4e/candid-shot.jpg\n",
      "https://media-cdn.tripadvisor.com/media/photo-f/0a/61/df/59/pizza-nation.jpg\n",
      "https://media-cdn.tripadvisor.com/media/photo-s/11/fb/f2/2b/photo4jpg.jpg\n",
      "https://media-cdn.tripadvisor.com/media/photo-s/16/85/f7/f2/vegas-21.jpg\n",
      "https://media-cdn.tripadvisor.com/media/photo-s/12/98/96/13/ice-n-de-lish.jpg\n",
      "https://media-cdn.tripadvisor.com/media/photo-s/14/42/6b/0f/getlstd-property-photo.jpg\n"
     ]
    }
   ],
   "source": [
    "imageList = response.css('div.centering_wrapper  img::attr(src)').extract()\n",
    "for i in imageList:\n",
    "    print(i)"
   ]
  },
  {
   "cell_type": "code",
   "execution_count": 57,
   "metadata": {},
   "outputs": [
    {
     "name": "stdout",
     "output_type": "stream",
     "text": [
      "{'name': 'New Gopal Sweets', 'image': 'https://media-cdn.tripadvisor.com/media/photo-f/09/76/95/d4/new-gopal-sweets.jpg'}\n",
      "{'name': 'Garden Resort', 'image': 'https://media-cdn.tripadvisor.com/media/photo-s/12/61/92/6b/photo0jpg.jpg'}\n",
      "{'name': 'Cafe Coffee Day', 'image': 'https://media-cdn.tripadvisor.com/media/photo-f/12/05/74/4e/candid-shot.jpg'}\n",
      "{'name': 'Gastro Eatery Hub', 'image': 'https://media-cdn.tripadvisor.com/media/photo-f/0a/61/df/59/pizza-nation.jpg'}\n",
      "{'name': 'KFC Patiala', 'image': 'https://media-cdn.tripadvisor.com/media/photo-s/11/fb/f2/2b/photo4jpg.jpg'}\n",
      "{'name': 'Boston Bites', 'image': 'https://media-cdn.tripadvisor.com/media/photo-s/16/85/f7/f2/vegas-21.jpg'}\n",
      "{'name': \"Sahni's bakery and restaurant\", 'image': 'https://media-cdn.tripadvisor.com/media/photo-s/12/98/96/13/ice-n-de-lish.jpg'}\n",
      "{'name': 'Pizza Nation', 'image': 'https://media-cdn.tripadvisor.com/media/photo-s/14/42/6b/0f/getlstd-property-photo.jpg'}\n"
     ]
    }
   ],
   "source": [
    "count = 1 \n",
    "for (i,l) in zip(restName,imageList):\n",
    "    print({'name':str(i[i.find('.')+2:]), \"image\":l})"
   ]
  },
  {
   "cell_type": "code",
   "execution_count": null,
   "metadata": {},
   "outputs": [],
   "source": []
  }
 ],
 "metadata": {
  "kernelspec": {
   "display_name": "Python 3",
   "language": "python",
   "name": "python3"
  },
  "language_info": {
   "codemirror_mode": {
    "name": "ipython",
    "version": 3
   },
   "file_extension": ".py",
   "mimetype": "text/x-python",
   "name": "python",
   "nbconvert_exporter": "python",
   "pygments_lexer": "ipython3",
   "version": "3.6.8"
  }
 },
 "nbformat": 4,
 "nbformat_minor": 2
}
