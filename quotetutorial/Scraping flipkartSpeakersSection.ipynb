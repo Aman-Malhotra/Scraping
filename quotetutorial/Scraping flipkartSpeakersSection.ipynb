{
 "cells": [
  {
   "cell_type": "code",
   "execution_count": 1,
   "metadata": {},
   "outputs": [],
   "source": [
    "import requests\n",
    "from scrapy.http import TextResponse"
   ]
  },
  {
   "cell_type": "code",
   "execution_count": 2,
   "metadata": {},
   "outputs": [],
   "source": [
    "r = requests.get('https://www.flipkart.com/audio-video/speakers/~cs-a79vfgcj3i/pr?sid=0pm%2C0o7&p%5B%5D=facets.type%255B%255D%3DSoundbar&p%5B%5D=facets.serviceability%5B%5D%3Dtrue&p%5B%5D=facets.price_range.from%3D3999&p%5B%5D=facets.price_range.to%3DMax&otracker=hp_banner_2_6.bannerX3.BANNER_HMMMXBHLSPLM&fm=neo%2Fmerchandising&iid=M_d98fec4d-1c6c-47ba-8a43-bc89d823cf6e_6.HMMMXBHLSPLM&ssid=oz5hwytynk0000001571668476474')"
   ]
  },
  {
   "cell_type": "code",
   "execution_count": 3,
   "metadata": {},
   "outputs": [],
   "source": [
    "response = TextResponse(r.url, body=r.text, encoding='utf-8')"
   ]
  },
  {
   "cell_type": "code",
   "execution_count": 4,
   "metadata": {},
   "outputs": [
    {
     "name": "stdout",
     "output_type": "stream",
     "text": [
      "['boAt Aavante Bar 1200 80 W Bluetooth Soundbar', 'MarQ by Flipkart FS23S 120 W Bluetooth Soundbar', 'boAt Aavante Bar 2000 160 W Bluetooth Soundbar', 'Mi (8 speaker drivers) Bluetooth Soundbar', 'Mi (8 speaker drivers) Bluetooth Soundbar', 'boAt Aavante 120 W Bluetooth Soundbar', 'iBall Cinebar 100 High Power with Subwoofer 80 W Blueto...', 'Creative Stage 160 W Bluetooth Soundbar', 'iBall Cinebar 200DD Dolby Digital with Subwoofer 120 W ...', 'Philips HTL1041 40 W Bluetooth Soundbar with Subwoofer', 'Samsung HW K350/XL 150 W Dolby Bluetooth Soundbar', 'F&D T 200X 70 W Bluetooth Soundbar', 'LG SJ3 300 W Wireless Dolby Bluetooth Soundbar', 'Philips MMS8085B/94 80 W Bluetooth Soundbar', 'JBL Cinema SB150 Dolby Wireless Bluetooth Soundbar', 'Samsung N300 (With Built-in Woofer) Bluetooth Soundbar', 'JBL BAR20 (Built-In Dual Bass Port, Surround Sound) Blu...', 'MarQ by Flipkart FS62LS 80 W Bluetooth Soundbar', 'Sony RT3 Home Theater System with Dolby 600 W Bluetooth...', 'JBL Bar Studio Bluetooth Soundbar', 'JBL SB350 Dolby Digital with (Wireless Subwoofer & Deep...', 'Sony CT-290 Dolby Digital 300 W Bluetooth Soundbar', 'JBL BAR21 Dolby Digital with Wireless Subwoofer Bluetoo...', 'boAt AAVANTE BAR 1150 60 W Bluetooth Soundbar', 'JBL BAR51 Dolby Digital DTS with (Wireless Speakers and...', 'JBL SB450 Dolby Digital with (Wireless Subwoofer & Deep...', 'Samsung HW-R450/XL 200 W Bluetooth Soundbar', 'Polk Audio Signa S1 120 W Bluetooth Soundbar', 'Bose 700 Bluetooth Soundbar', 'Sony HT-S700RF 1000 W Bluetooth Soundbar', 'Polk Audio Dolby MagniFi Mini with Wireless Subwoofer 2...', 'Bose Solo 5 Bluetooth Soundbar', 'Sony HT-S350 Wireless Subwoofer Bluetooth Soundbar', 'Sony HT-X8500 Dolby Atmos with built in Subwoofer Bluet...', 'Mitashi SB 2575 BT 70 W Bluetooth Soundbar', 'Sony HT-S500RF 1000 W Bluetooth Soundbar', 'Samsung HW-N450 320 W Bluetooth Soundbar', 'Philips HTL1510B/94 70 W Bluetooth Soundbar', 'Polk Audio Signa Solo 100 W Bluetooth Soundbar', 'Samsung HW-R550/XL 320 W Bluetooth Soundbar']\n"
     ]
    }
   ],
   "source": [
    "pTitle = response.css('._2cLu-l::text').extract()\n",
    "print(pTitle)"
   ]
  },
  {
   "cell_type": "code",
   "execution_count": 9,
   "metadata": {},
   "outputs": [
    {
     "name": "stdout",
     "output_type": "stream",
     "text": [
      "40\n"
     ]
    }
   ],
   "source": [
    "print(len(pTitle))"
   ]
  },
  {
   "cell_type": "code",
   "execution_count": 10,
   "metadata": {},
   "outputs": [
    {
     "name": "stdout",
     "output_type": "stream",
     "text": [
      "['₹4,499', '₹4,999', '₹7,499', '₹4,999', '₹4,499', '₹6,499', '₹3,999', '₹6,499', '₹5,999', '₹4,499', '₹7,999', '₹5,499', '₹9,999', '₹6,499', '₹9,999', '₹4,999', '₹5,999', '₹3,999', '₹17,990', '₹8,499', '₹15,999', '₹12,999', '₹20,999', '₹3,999', '₹45,999', '₹24,999', '₹14,999', '₹14,999', '₹71,100', '₹37,990', '₹23,999', '₹22,050', '₹17,990', '₹29,990', '₹3,999', '₹29,990', '₹17,999', '₹11,990', '₹8,999', '₹20,999']\n"
     ]
    }
   ],
   "source": [
    "pCost = response.css('._1vC4OE::text').extract()\n",
    "print(pCost)"
   ]
  },
  {
   "cell_type": "code",
   "execution_count": 11,
   "metadata": {},
   "outputs": [
    {
     "name": "stdout",
     "output_type": "stream",
     "text": [
      "40\n"
     ]
    }
   ],
   "source": [
    "print(len(pCost))"
   ]
  },
  {
   "cell_type": "code",
   "execution_count": null,
   "metadata": {},
   "outputs": [],
   "source": []
  }
 ],
 "metadata": {
  "kernelspec": {
   "display_name": "Python 3",
   "language": "python",
   "name": "python3"
  },
  "language_info": {
   "codemirror_mode": {
    "name": "ipython",
    "version": 3
   },
   "file_extension": ".py",
   "mimetype": "text/x-python",
   "name": "python",
   "nbconvert_exporter": "python",
   "pygments_lexer": "ipython3",
   "version": "3.6.8"
  }
 },
 "nbformat": 4,
 "nbformat_minor": 2
}
