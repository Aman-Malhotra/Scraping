{
 "cells": [
  {
   "cell_type": "code",
   "execution_count": 120,
   "metadata": {},
   "outputs": [],
   "source": [
    "import requests\n",
    "from scrapy.http import TextResponse\n",
    "import csv"
   ]
  },
  {
   "cell_type": "code",
   "execution_count": 123,
   "metadata": {},
   "outputs": [],
   "source": [
    "def add_to_csv(response):\n",
    "    school = response.css(\"div.panel-body\")\n",
    "    print(len(school))\n",
    "    with open('schoolData.csv', 'a', newline='') as file:\n",
    "        writer = csv.writer(file)\n",
    "        for s in school:\n",
    "            name = s.css(\"h2::text\").extract()\n",
    "            data = s.css(\"tr td::text\").extract()\n",
    "            if(name is not None and len(name)>0 and data is not None and len(data)>0):\n",
    "                for d in data:\n",
    "                    if('mobile' in d.lower()):\n",
    "                        writer.writerow([name[0], data[1],  d])"
   ]
  },
  {
   "cell_type": "code",
   "execution_count": 124,
   "metadata": {},
   "outputs": [
    {
     "name": "stdout",
     "output_type": "stream",
     "text": [
      "31\n",
      "31\n",
      "31\n",
      "31\n",
      "31\n",
      "31\n",
      "31\n",
      "31\n",
      "31\n",
      "31\n",
      "31\n",
      "31\n",
      "31\n",
      "31\n",
      "31\n",
      "31\n",
      "31\n",
      "31\n",
      "31\n",
      "31\n",
      "31\n",
      "31\n",
      "31\n",
      "31\n",
      "31\n",
      "31\n",
      "31\n",
      "31\n",
      "31\n",
      "31\n",
      "31\n",
      "31\n",
      "31\n",
      "31\n",
      "31\n",
      "31\n",
      "31\n",
      "31\n",
      "31\n",
      "31\n",
      "31\n",
      "31\n",
      "31\n",
      "31\n",
      "31\n",
      "31\n",
      "31\n",
      "31\n",
      "31\n",
      "31\n",
      "12\n"
     ]
    }
   ],
   "source": [
    "for i in range(1, 52):\n",
    "    with open('./htmlFiles/html'+str(i)+'.html', 'r') as f:\n",
    "        html_string = f.read()\n",
    "    response = TextResponse(r.url, body=html_string, encoding='utf-8')\n",
    "    add_to_csv(response)"
   ]
  },
  {
   "cell_type": "code",
   "execution_count": 99,
   "metadata": {},
   "outputs": [],
   "source": [
    "# for i in range(25, 52):\n",
    "#     open(\"./htmlFiles/html\"+str(i)+\".html\",\"w+\")"
   ]
  },
  {
   "cell_type": "code",
   "execution_count": 103,
   "metadata": {},
   "outputs": [],
   "source": [
    "# import webbrowser\n",
    "# for i in range(45, 52):\n",
    "#     count = 25*(i-1)\n",
    "#     url = \"https://targetstudy.com/school/schools-in-punjab.html?recNo=\"+str(count)\n",
    "#     webbrowser.open_new(url)"
   ]
  }
 ],
 "metadata": {
  "kernelspec": {
   "display_name": "Python 3",
   "language": "python",
   "name": "python3"
  },
  "language_info": {
   "codemirror_mode": {
    "name": "ipython",
    "version": 3
   },
   "file_extension": ".py",
   "mimetype": "text/x-python",
   "name": "python",
   "nbconvert_exporter": "python",
   "pygments_lexer": "ipython3",
   "version": "3.6.9"
  }
 },
 "nbformat": 4,
 "nbformat_minor": 2
}
