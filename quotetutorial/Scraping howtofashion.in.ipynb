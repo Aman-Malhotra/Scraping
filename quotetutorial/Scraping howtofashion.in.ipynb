{
 "cells": [
  {
   "cell_type": "code",
   "execution_count": 1,
   "metadata": {},
   "outputs": [],
   "source": [
    "import requests\n",
    "from scrapy.http import TextResponse"
   ]
  },
  {
   "cell_type": "code",
   "execution_count": 2,
   "metadata": {},
   "outputs": [],
   "source": [
    "r = requests.get('http://howtofashion.in/')\n",
    "response = TextResponse(r.url, body=r.text, encoding='utf-8')"
   ]
  },
  {
   "cell_type": "code",
   "execution_count": 55,
   "metadata": {},
   "outputs": [],
   "source": [
    "linksList = response.css(\"figure a::attr(href)\").extract()"
   ]
  },
  {
   "cell_type": "code",
   "execution_count": 56,
   "metadata": {},
   "outputs": [],
   "source": [
    "def Remove(oldList): \n",
    "    final_list = [] \n",
    "    for val in oldList: \n",
    "        if val not in final_list: \n",
    "            final_list.append(val) \n",
    "    return final_list"
   ]
  },
  {
   "cell_type": "code",
   "execution_count": 63,
   "metadata": {},
   "outputs": [],
   "source": [
    "linksList = Remove(oldList)"
   ]
  },
  {
   "cell_type": "code",
   "execution_count": 64,
   "metadata": {},
   "outputs": [
    {
     "name": "stdout",
     "output_type": "stream",
     "text": [
      "['#primary', '#content', 'https://howtofashion.in/', 'https://howtofashion.in/about-us/', 'https://howtofashion.in/contact-us/', 'https://howtofashion.in/business-meeting-2017-in-san-francisco-2/', 'https://howtofashion.in/5-reasons-to-purchase-desktop-computers-2/', 'https://howtofashion.in/see-the-unmatched-beauty-of-the-great-lakes-2/', 'https://howtofashion.in/investment-trend-monitor-top-trends-in-2017-2/', 'https://howtofashion.in/stair-lifts-feel-the-freedom-of-your-home-2/', 'https://howtofashion.in/mind-power-the-ultimate-success-formula-2/', 'https://howtofashion.in/top-10-night-creams-will-help-your-skin-to-relax-2/', 'https://howtofashion.in/live-poker-how-to-win-tournament-games-2/', 'https://howtofashion.in/success-steps-for-your-personal-or-business-life-2/', 'https://howtofashion.in/combing-hair-10-tips-for-proper-hair-combing-2/', 'https://howtofashion.in/how-to-excellent-in-a-technical-job-interview-2/', 'https://howtofashion.in/advertising-relationships-vs-business-decisions-2/', 'https://howtofashion.in/how-to-set-intentions-that-energize-you/', 'https://howtofashion.in/to-keep-makeup-looking-fresh-take-a-powder/', 'https://howtofashion.in/virginia-travel-for-kids/', 'https://howtofashion.in/differentiate-yourself-and-attract-more-attention-sales-and-profits/', '#', 'https://www.instagram.com/howtofashion.in/', 'https://www.facebook.com/howtofashion.in/']\n"
     ]
    }
   ],
   "source": [
    "print(linksList)"
   ]
  },
  {
   "cell_type": "code",
   "execution_count": 21,
   "metadata": {},
   "outputs": [
    {
     "name": "stdout",
     "output_type": "stream",
     "text": [
      "['Business meeting 2017 in San Francisco', '5 reasons to purchase desktop computers', 'See the unmatched beauty of the great lakes', 'Investment trend monitor: Top trends in 2017', 'Stair lifts feel the freedom of your home', 'Mind power the ultimate success formula', 'Top 10 night creams will help your skin to relax', 'Live poker how to win tournament games', 'Success steps for your personal or business life', 'Combing hair 10 tips for proper hair combing', 'How to excellent in a technical job interview', 'Advertising relationships vs business decisions', 'How to set intentions that energize you', 'To keep makeup looking fresh take a powder', 'Virginia travel for kids', 'Differentiate yourself and attract more attention sales and profits']\n"
     ]
    }
   ],
   "source": [
    "postNames = response.css(\"h2.entry-title a::text\").extract()\n",
    "postNames = Remove(postNames)\n",
    "print(postNames)"
   ]
  },
  {
   "cell_type": "code",
   "execution_count": 66,
   "metadata": {},
   "outputs": [
    {
     "name": "stdout",
     "output_type": "stream",
     "text": [
      "['https://howtofashion.in/business-meeting-2017-in-san-francisco-2/', 'https://howtofashion.in/5-reasons-to-purchase-desktop-computers-2/', 'https://howtofashion.in/see-the-unmatched-beauty-of-the-great-lakes-2/', 'https://howtofashion.in/investment-trend-monitor-top-trends-in-2017-2/', 'https://howtofashion.in/stair-lifts-feel-the-freedom-of-your-home-2/', 'https://howtofashion.in/mind-power-the-ultimate-success-formula-2/', 'https://howtofashion.in/top-10-night-creams-will-help-your-skin-to-relax-2/', 'https://howtofashion.in/live-poker-how-to-win-tournament-games-2/', 'https://howtofashion.in/success-steps-for-your-personal-or-business-life-2/', 'https://howtofashion.in/combing-hair-10-tips-for-proper-hair-combing-2/', 'https://howtofashion.in/how-to-excellent-in-a-technical-job-interview-2/', 'https://howtofashion.in/advertising-relationships-vs-business-decisions-2/', 'https://howtofashion.in/how-to-set-intentions-that-energize-you/', 'https://howtofashion.in/to-keep-makeup-looking-fresh-take-a-powder/', 'https://howtofashion.in/virginia-travel-for-kids/', 'https://howtofashion.in/differentiate-yourself-and-attract-more-attention-sales-and-profits/']\n"
     ]
    }
   ],
   "source": [
    "linksList = response.css(\"figure a::attr(href)\").extract()\n",
    "print(linksList)"
   ]
  },
  {
   "cell_type": "code",
   "execution_count": 67,
   "metadata": {},
   "outputs": [],
   "source": [
    "postLinkDict = {}\n",
    "for "
   ]
  },
  {
   "cell_type": "code",
   "execution_count": null,
   "metadata": {},
   "outputs": [],
   "source": []
  }
 ],
 "metadata": {
  "kernelspec": {
   "display_name": "Python 3",
   "language": "python",
   "name": "python3"
  },
  "language_info": {
   "codemirror_mode": {
    "name": "ipython",
    "version": 3
   },
   "file_extension": ".py",
   "mimetype": "text/x-python",
   "name": "python",
   "nbconvert_exporter": "python",
   "pygments_lexer": "ipython3",
   "version": "3.6.8"
  }
 },
 "nbformat": 4,
 "nbformat_minor": 2
}
