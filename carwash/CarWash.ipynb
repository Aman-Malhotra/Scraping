{
 "cells": [
  {
   "cell_type": "code",
   "execution_count": 11,
   "metadata": {},
   "outputs": [],
   "source": [
    "import requests\n",
    "from scrapy.http import TextResponse\n",
    "import csv"
   ]
  },
  {
   "cell_type": "code",
   "execution_count": 12,
   "metadata": {
    "tags": []
   },
   "outputs": [],
   "source": [
    "req = requests.get('https://royaltouchmdllc.com/mobile-services/')\n",
    "response = TextResponse(req.url, body=req.text, encoding='utf-8')"
   ]
  },
  {
   "cell_type": "code",
   "execution_count": 31,
   "metadata": {},
   "outputs": [],
   "source": [
    "desc = response.css('p[style=\"margin:0\"] span::text').extract()\n",
    "for d in desc:\n",
    "    with open('services.csv', 'a', newline='') as file:\n",
    "        writer = csv.writer(file)\n",
    "        writer.writerow([d])\n",
    "headings = response.css('h4::text').extract()\n",
    "price = response.css('div[data-ux=\"Price\"]::text').extract()\n",
    "for (h, p, d) in zip(headings, price, desc): \n",
    "    with open('services.csv', 'a', newline='') as file:\n",
    "        writer = csv.writer(file)\n",
    "        writer.writerow([h, p])\n",
    "# print(services)"
   ]
  },
  {
   "cell_type": "code",
   "execution_count": 33,
   "metadata": {},
   "outputs": [],
   "source": [
    "req2 = requests.get('https://howtofashion.in/2018/08/16/5-reasons-to-purchase-desktop-computers-2/')\n",
    "response2 = TextResponse(req2.url, body=req2.text, encoding='utf-8')"
   ]
  },
  {
   "cell_type": "code",
   "execution_count": 36,
   "metadata": {},
   "outputs": [
    {
     "name": "stdout",
     "output_type": "stream",
     "text": [
      "Hard work\n",
      "Learning from failure\n",
      "“Success is the result of perfection, hard work, learning from failure, loyalty, and persistence”\n",
      "The Reward System\n",
      "The powerful force of humanity\n"
     ]
    }
   ],
   "source": [
    "titles = response2.css('.wpb_wrapper h3::text').extract()\n",
    "for title in titles:\n",
    "    print(title)"
   ]
  },
  {
   "cell_type": "code",
   "execution_count": 38,
   "metadata": {},
   "outputs": [
    {
     "name": "stdout",
     "output_type": "stream",
     "text": [
      "https://howtofashion.in/2018/08/16/business-meeting-2017-in-san-francisco-2/\n",
      "https://howtofashion.in/2018/08/16/5-reasons-to-purchase-desktop-computers-2/\n",
      "https://howtofashion.in/2018/08/16/see-the-unmatched-beauty-of-the-great-lakes-2/\n",
      "https://howtofashion.in/2018/08/16/investment-trend-monitor-top-trends-in-2017-2/\n",
      "https://howtofashion.in/2018/08/16/stair-lifts-feel-the-freedom-of-your-home-2/\n",
      "https://howtofashion.in/2018/08/16/mind-power-the-ultimate-success-formula-2/\n",
      "https://howtofashion.in/2018/08/16/top-10-night-creams-will-help-your-skin-to-relax-2/\n",
      "https://howtofashion.in/2018/08/16/live-poker-how-to-win-tournament-games-2/\n",
      "https://howtofashion.in/2018/08/16/success-steps-for-your-personal-or-business-life-2/\n",
      "https://howtofashion.in/2018/08/16/combing-hair-10-tips-for-proper-hair-combing-2/\n",
      "https://howtofashion.in/2018/08/16/how-to-excellent-in-a-technical-job-interview-2/\n",
      "https://howtofashion.in/2018/08/16/advertising-relationships-vs-business-decisions-2/\n",
      "https://howtofashion.in/2018/08/16/how-to-set-intentions-that-energize-you/\n",
      "https://howtofashion.in/2018/08/16/to-keep-makeup-looking-fresh-take-a-powder/\n",
      "https://howtofashion.in/2018/08/16/virginia-travel-for-kids/\n",
      "https://howtofashion.in/2018/08/16/differentiate-yourself-and-attract-more-attention-sales-and-profits/\n"
     ]
    }
   ],
   "source": [
    "links = response.css('figure a::attr(href)').extract()\n",
    "for link in links:\n",
    "    print(link)"
   ]
  },
  {
   "cell_type": "code",
   "execution_count": null,
   "metadata": {},
   "outputs": [],
   "source": []
  }
 ],
 "metadata": {
  "kernelspec": {
   "name": "Python 3.8.6 64-bit",
   "display_name": "Python 3.8.6 64-bit",
   "metadata": {
    "interpreter": {
     "hash": "aee8b7b246df8f9039afb4144a1f6fd8d2ca17a180786b69acc140d282b71a49"
    }
   }
  },
  "language_info": {
   "codemirror_mode": {
    "name": "ipython",
    "version": 3
   },
   "file_extension": ".py",
   "mimetype": "text/x-python",
   "name": "python",
   "nbconvert_exporter": "python",
   "pygments_lexer": "ipython3",
   "version": "3.8.6-final"
  }
 },
 "nbformat": 4,
 "nbformat_minor": 2
}